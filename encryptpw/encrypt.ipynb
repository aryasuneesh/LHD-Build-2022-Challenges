{
 "cells": [
  {
   "cell_type": "code",
   "execution_count": 7,
   "metadata": {},
   "outputs": [],
   "source": [
    "import base64"
   ]
  },
  {
   "cell_type": "code",
   "execution_count": 8,
   "metadata": {},
   "outputs": [
    {
     "name": "stdout",
     "output_type": "stream",
     "text": [
      "======PASSWORD ENCRYPTOR======\n",
      "\n",
      "Encrypted password:  b'GVsbG93b3JsZA=='\n"
     ]
    }
   ],
   "source": [
    "print(\"======PASSWORD ENCRYPTOR======\")\n",
    "print()\n",
    "pw = input(\"Enter password: \")\n",
    "password = pw.encode('utf-8')\n",
    "encrypt = base64.b64encode(password)\n",
    "print(\"Encrypted password: \", encrypt)\n",
    "p = input(\"Do you want to decrypt this password? (y/n): \")"
   ]
  },
  {
   "cell_type": "code",
   "execution_count": 9,
   "metadata": {},
   "outputs": [
    {
     "name": "stdout",
     "output_type": "stream",
     "text": [
      "Decrypted password:  b'elloworld'\n"
     ]
    }
   ],
   "source": [
    "if p=='y' or p=='Y':\n",
    "    decrypt = base64.b64decode(encrypt)\n",
    "    print(\"Decrypted password: \", decrypt)\n",
    "else:\n",
    "    print(\"Bye!\")"
   ]
  }
 ],
 "metadata": {
  "interpreter": {
   "hash": "5bd510220220e621805fab246ca3f4c9e856e89db49205f54f56221957e28ded"
  },
  "kernelspec": {
   "display_name": "Python 3.8.6 64-bit",
   "language": "python",
   "name": "python3"
  },
  "language_info": {
   "codemirror_mode": {
    "name": "ipython",
    "version": 3
   },
   "file_extension": ".py",
   "mimetype": "text/x-python",
   "name": "python",
   "nbconvert_exporter": "python",
   "pygments_lexer": "ipython3",
   "version": "3.8.6"
  },
  "orig_nbformat": 4
 },
 "nbformat": 4,
 "nbformat_minor": 2
}
